{
 "cells": [
  {
   "cell_type": "code",
   "execution_count": 3,
   "metadata": {},
   "outputs": [
    {
     "name": "stdout",
     "output_type": "stream",
     "text": [
      "[0]\n"
     ]
    }
   ],
   "source": [
    "from sklearn.neighbors import KNeighborsClassifier\n",
    "\n",
    "# Define os dados de treinamento\n",
    "X = [[0], [1], [2], [3]]\n",
    "y = [0, 0, 1, 1]\n",
    "\n",
    "# Cria um classificador KNN com 3 vizinhos mais próximos\n",
    "neigh = KNeighborsClassifier(n_neighbors=3)\n",
    "\n",
    "# Ajusta o classificador aos dados de treinamento\n",
    "neigh.fit(X, y)\n",
    "\n",
    "# Faz uma previsão para um novo ponto de dados\n",
    "print(neigh.predict([[1.1]]))"
   ]
  },
  {
   "cell_type": "markdown",
   "metadata": {},
   "source": []
  }
 ],
 "metadata": {
  "kernelspec": {
   "display_name": "base",
   "language": "python",
   "name": "python3"
  },
  "language_info": {
   "codemirror_mode": {
    "name": "ipython",
    "version": 3
   },
   "file_extension": ".py",
   "mimetype": "text/x-python",
   "name": "python",
   "nbconvert_exporter": "python",
   "pygments_lexer": "ipython3",
   "version": "3.9.16"
  },
  "orig_nbformat": 4,
  "vscode": {
   "interpreter": {
    "hash": "91d5940ae8d46a8f19b6b61f505eb79ee5b66d9137d0c4a8d8681f9dad2aa294"
   }
  }
 },
 "nbformat": 4,
 "nbformat_minor": 2
}
